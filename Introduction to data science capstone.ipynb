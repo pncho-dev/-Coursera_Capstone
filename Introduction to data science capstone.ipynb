{
 "cells": [
  {
   "cell_type": "markdown",
   "metadata": {
    "collapsed": true
   },
   "source": [
    "# Predicting the severity of car accidents"
   ]
  },
  {
   "cell_type": "markdown",
   "metadata": {},
   "source": [
    "## Introduction"
   ]
  },
  {
   "cell_type": "markdown",
   "metadata": {},
   "source": [
    "Between the 2004 and 2018 ocurred around 225000 collision in seattle, Canada. During this years a lot of information was registered and organized into a database, that contains about 41 attributes. One of those attributes describes the severity of the collision, that can be labeled from collisions that only caused propierty damage to collisions that caused fatallities. The autorithies of seattle made an effort in order to save a lot of data for each collison. For example, we can know about the number of vehicles and the type of those vehicles involved in the accident, the amount of people involved in the crash, the weather and road conditions,the location of the accidents, and even we can know if the speeding or the influence of some substances took part in the accident. However, there is a lot of missing data that will have to be evaluated towards extracting and analising information from this database.\n",
    "\n",
    "Having all this information, we can think about the posible benefits of usign data science and machine learning techniques to find the especific conditions that increases the posibility of fatallities in one collison. Having this information we could be able to predict the severity of one accident just by having information about the traffic of the city, the roads and the available information in the database, therefore i expect this to be useful for the ones interested in the collisions and how we can predict them and more important which conditions that are under our control we can improve to prevent the accidents or at least having the smallest amount of casualties."
   ]
  }
 ],
 "metadata": {
  "kernelspec": {
   "display_name": "Python 3.6",
   "language": "python",
   "name": "python3"
  },
  "language_info": {
   "codemirror_mode": {
    "name": "ipython",
    "version": 3
   },
   "file_extension": ".py",
   "mimetype": "text/x-python",
   "name": "python",
   "nbconvert_exporter": "python",
   "pygments_lexer": "ipython3",
   "version": "3.6.9"
  }
 },
 "nbformat": 4,
 "nbformat_minor": 1
}
