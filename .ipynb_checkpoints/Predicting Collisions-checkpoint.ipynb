{
 "cells": [
  {
   "cell_type": "markdown",
   "metadata": {},
   "source": [
    "# Predicting the severity of car accidents"
   ]
  },
  {
   "cell_type": "markdown",
   "metadata": {},
   "source": [
    "## Introduction"
   ]
  },
  {
   "cell_type": "markdown",
   "metadata": {},
   "source": [
    "Between the 2004 and 2018 ocurred around 225000 collision in seattle, Canada. During this years a lot of information was registered and organized into a database, that contains about 41 attributes. One of those attributes describes the severity of the collision, that can be labeled from collisions that only caused propierty damage to collisions that caused fatallities. The autorithies of seattle made an effort in order to save a lot of data for each collison. For example, we can know about the number of vehicles and the type of those vehicles involved in the accident, the amount of people involved in the crash, the weather and road conditions,the location of the accidents, and even we can know if the speeding or the influence of some substances took part in the accident. However, there is a lot of missing data that will have to be evaluated towards extracting and analising information from this database.\n",
    "\n",
    "Having all this information, we can think about the posible benefits of usign data science and machine learning techniques to find the especific conditions that increases the posibility of fatallities in one collison. Having this information we could be able to predict the severity of one accident just by having information about the traffic of the city, the roads and the available information in the database, therefore i expect this to be useful for the ones interested in the collisions, and how we can predict them and more important which conditions that are under our control we can improve to prevent the accidents or at least having the smallest amount of casualties.\n",
    "\n",
    "This work it's a oportunity to the public entities around the world to have a deeper knowledge of the variables involved in the accidents in order to save lives likewise the insurance companies could be interested in knowing how to reduce the damage in accidents."
   ]
  },
  {
   "cell_type": "markdown",
   "metadata": {},
   "source": [
    "## Data Analysis"
   ]
  },
  {
   "cell_type": "markdown",
   "metadata": {},
   "source": [
    "This notebooks contains the exploratory data analysis of the data used to predict the severity of the collisions in the city of Seattle in Canada. The main objective is to build a highly accurated machine learning model using the available data.The database used was provided by the city if seattle and can be found at: http://data-seattlecitygis.opendata.arcgis.com/datasets/5b5c745e0f1f48e7a53acec63a0022ab_0 \n",
    "The first setep it's to install and import the necessary libraries to make the analysis and ploting of the data:"
   ]
  },
  {
   "cell_type": "code",
   "execution_count": 1,
   "metadata": {},
   "outputs": [],
   "source": [
    "%%capture\n",
    "! pip install seaborn\n",
    "! pip install dexplot"
   ]
  },
  {
   "cell_type": "code",
   "execution_count": 2,
   "metadata": {},
   "outputs": [],
   "source": [
    "import matplotlib.pyplot as plt\n",
    "import seaborn as sns\n",
    "import pandas as pd\n",
    "import numpy as np\n",
    "import io\n",
    "import requests\n",
    "from scipy import stats\n",
    "import datetime\n",
    "import dexplot as dxp"
   ]
  },
  {
   "cell_type": "markdown",
   "metadata": {},
   "source": [
    "Then i loaded the data a decoded it:"
   ]
  },
  {
   "cell_type": "code",
   "execution_count": 39,
   "metadata": {},
   "outputs": [],
   "source": [
    "url=\"https://opendata.arcgis.com/datasets/5b5c745e0f1f48e7a53acec63a0022ab_0.csv\"\n",
    "s=requests.get(url).content\n",
    "c=pd.read_csv(io.StringIO(s.decode('utf-8')))"
   ]
  },
  {
   "cell_type": "code",
   "execution_count": 40,
   "metadata": {},
   "outputs": [
    {
     "data": {
      "text/html": [
       "<div>\n",
       "<style scoped>\n",
       "    .dataframe tbody tr th:only-of-type {\n",
       "        vertical-align: middle;\n",
       "    }\n",
       "\n",
       "    .dataframe tbody tr th {\n",
       "        vertical-align: top;\n",
       "    }\n",
       "\n",
       "    .dataframe thead th {\n",
       "        text-align: right;\n",
       "    }\n",
       "</style>\n",
       "<table border=\"1\" class=\"dataframe\">\n",
       "  <thead>\n",
       "    <tr style=\"text-align: right;\">\n",
       "      <th></th>\n",
       "      <th>X</th>\n",
       "      <th>Y</th>\n",
       "      <th>OBJECTID</th>\n",
       "      <th>INCKEY</th>\n",
       "      <th>COLDETKEY</th>\n",
       "      <th>REPORTNO</th>\n",
       "      <th>STATUS</th>\n",
       "      <th>ADDRTYPE</th>\n",
       "      <th>INTKEY</th>\n",
       "      <th>LOCATION</th>\n",
       "      <th>...</th>\n",
       "      <th>ROADCOND</th>\n",
       "      <th>LIGHTCOND</th>\n",
       "      <th>PEDROWNOTGRNT</th>\n",
       "      <th>SDOTCOLNUM</th>\n",
       "      <th>SPEEDING</th>\n",
       "      <th>ST_COLCODE</th>\n",
       "      <th>ST_COLDESC</th>\n",
       "      <th>SEGLANEKEY</th>\n",
       "      <th>CROSSWALKKEY</th>\n",
       "      <th>HITPARKEDCAR</th>\n",
       "    </tr>\n",
       "  </thead>\n",
       "  <tbody>\n",
       "    <tr>\n",
       "      <th>0</th>\n",
       "      <td>-122.356511</td>\n",
       "      <td>47.517361</td>\n",
       "      <td>1</td>\n",
       "      <td>327920</td>\n",
       "      <td>329420</td>\n",
       "      <td>3856094</td>\n",
       "      <td>Matched</td>\n",
       "      <td>Intersection</td>\n",
       "      <td>34911.0</td>\n",
       "      <td>17TH AVE SW AND SW ROXBURY ST</td>\n",
       "      <td>...</td>\n",
       "      <td>Dry</td>\n",
       "      <td>Daylight</td>\n",
       "      <td>NaN</td>\n",
       "      <td>NaN</td>\n",
       "      <td>NaN</td>\n",
       "      <td>10</td>\n",
       "      <td>Entering at angle</td>\n",
       "      <td>0</td>\n",
       "      <td>0</td>\n",
       "      <td>N</td>\n",
       "    </tr>\n",
       "    <tr>\n",
       "      <th>1</th>\n",
       "      <td>-122.361405</td>\n",
       "      <td>47.702064</td>\n",
       "      <td>2</td>\n",
       "      <td>46200</td>\n",
       "      <td>46200</td>\n",
       "      <td>1791736</td>\n",
       "      <td>Matched</td>\n",
       "      <td>Block</td>\n",
       "      <td>NaN</td>\n",
       "      <td>HOLMAN RD NW BETWEEN 4TH AVE NW AND 3RD AVE NW</td>\n",
       "      <td>...</td>\n",
       "      <td>Wet</td>\n",
       "      <td>Dusk</td>\n",
       "      <td>NaN</td>\n",
       "      <td>5101020.0</td>\n",
       "      <td>NaN</td>\n",
       "      <td>13</td>\n",
       "      <td>From same direction - both going straight - bo...</td>\n",
       "      <td>0</td>\n",
       "      <td>0</td>\n",
       "      <td>N</td>\n",
       "    </tr>\n",
       "    <tr>\n",
       "      <th>2</th>\n",
       "      <td>-122.317414</td>\n",
       "      <td>47.664028</td>\n",
       "      <td>3</td>\n",
       "      <td>1212</td>\n",
       "      <td>1212</td>\n",
       "      <td>3507861</td>\n",
       "      <td>Matched</td>\n",
       "      <td>Block</td>\n",
       "      <td>NaN</td>\n",
       "      <td>ROOSEVELT WAY NE BETWEEN NE 47TH ST AND NE 50T...</td>\n",
       "      <td>...</td>\n",
       "      <td>Dry</td>\n",
       "      <td>Dark - Street Lights On</td>\n",
       "      <td>NaN</td>\n",
       "      <td>NaN</td>\n",
       "      <td>NaN</td>\n",
       "      <td>30</td>\n",
       "      <td>From opposite direction - all others</td>\n",
       "      <td>0</td>\n",
       "      <td>0</td>\n",
       "      <td>N</td>\n",
       "    </tr>\n",
       "    <tr>\n",
       "      <th>3</th>\n",
       "      <td>-122.318234</td>\n",
       "      <td>47.619927</td>\n",
       "      <td>4</td>\n",
       "      <td>327909</td>\n",
       "      <td>329409</td>\n",
       "      <td>EA03026</td>\n",
       "      <td>Matched</td>\n",
       "      <td>Intersection</td>\n",
       "      <td>29054.0</td>\n",
       "      <td>11TH AVE E AND E JOHN ST</td>\n",
       "      <td>...</td>\n",
       "      <td>Wet</td>\n",
       "      <td>Dark - Street Lights On</td>\n",
       "      <td>NaN</td>\n",
       "      <td>NaN</td>\n",
       "      <td>NaN</td>\n",
       "      <td>0</td>\n",
       "      <td>Vehicle going straight hits pedestrian</td>\n",
       "      <td>0</td>\n",
       "      <td>0</td>\n",
       "      <td>N</td>\n",
       "    </tr>\n",
       "    <tr>\n",
       "      <th>4</th>\n",
       "      <td>-122.351724</td>\n",
       "      <td>47.560306</td>\n",
       "      <td>5</td>\n",
       "      <td>104900</td>\n",
       "      <td>104900</td>\n",
       "      <td>2671936</td>\n",
       "      <td>Matched</td>\n",
       "      <td>Block</td>\n",
       "      <td>NaN</td>\n",
       "      <td>WEST MARGINAL WAY SW BETWEEN SW ALASKA ST AND ...</td>\n",
       "      <td>...</td>\n",
       "      <td>Ice</td>\n",
       "      <td>Dark - Street Lights On</td>\n",
       "      <td>NaN</td>\n",
       "      <td>9359012.0</td>\n",
       "      <td>Y</td>\n",
       "      <td>50</td>\n",
       "      <td>Fixed object</td>\n",
       "      <td>0</td>\n",
       "      <td>0</td>\n",
       "      <td>N</td>\n",
       "    </tr>\n",
       "  </tbody>\n",
       "</table>\n",
       "<p>5 rows × 40 columns</p>\n",
       "</div>"
      ],
      "text/plain": [
       "            X          Y  OBJECTID  INCKEY  COLDETKEY REPORTNO   STATUS  \\\n",
       "0 -122.356511  47.517361         1  327920     329420  3856094  Matched   \n",
       "1 -122.361405  47.702064         2   46200      46200  1791736  Matched   \n",
       "2 -122.317414  47.664028         3    1212       1212  3507861  Matched   \n",
       "3 -122.318234  47.619927         4  327909     329409  EA03026  Matched   \n",
       "4 -122.351724  47.560306         5  104900     104900  2671936  Matched   \n",
       "\n",
       "       ADDRTYPE   INTKEY                                           LOCATION  \\\n",
       "0  Intersection  34911.0                      17TH AVE SW AND SW ROXBURY ST   \n",
       "1         Block      NaN     HOLMAN RD NW BETWEEN 4TH AVE NW AND 3RD AVE NW   \n",
       "2         Block      NaN  ROOSEVELT WAY NE BETWEEN NE 47TH ST AND NE 50T...   \n",
       "3  Intersection  29054.0                           11TH AVE E AND E JOHN ST   \n",
       "4         Block      NaN  WEST MARGINAL WAY SW BETWEEN SW ALASKA ST AND ...   \n",
       "\n",
       "   ... ROADCOND                LIGHTCOND PEDROWNOTGRNT SDOTCOLNUM SPEEDING  \\\n",
       "0  ...      Dry                 Daylight           NaN        NaN      NaN   \n",
       "1  ...      Wet                     Dusk           NaN  5101020.0      NaN   \n",
       "2  ...      Dry  Dark - Street Lights On           NaN        NaN      NaN   \n",
       "3  ...      Wet  Dark - Street Lights On           NaN        NaN      NaN   \n",
       "4  ...      Ice  Dark - Street Lights On           NaN  9359012.0        Y   \n",
       "\n",
       "   ST_COLCODE                                         ST_COLDESC  SEGLANEKEY  \\\n",
       "0          10                                  Entering at angle           0   \n",
       "1          13  From same direction - both going straight - bo...           0   \n",
       "2          30               From opposite direction - all others           0   \n",
       "3           0             Vehicle going straight hits pedestrian           0   \n",
       "4          50                                       Fixed object           0   \n",
       "\n",
       "   CROSSWALKKEY  HITPARKEDCAR  \n",
       "0             0             N  \n",
       "1             0             N  \n",
       "2             0             N  \n",
       "3             0             N  \n",
       "4             0             N  \n",
       "\n",
       "[5 rows x 40 columns]"
      ]
     },
     "execution_count": 40,
     "metadata": {},
     "output_type": "execute_result"
    }
   ],
   "source": [
    "c.head()"
   ]
  },
  {
   "cell_type": "markdown",
   "metadata": {},
   "source": [
    "## Data exploration"
   ]
  },
  {
   "cell_type": "markdown",
   "metadata": {},
   "source": [
    "In this section i chose the variables that i'm going to use to make the prediction, i took the variables that showed a relation with the target, and didn't have a lot of null values."
   ]
  },
  {
   "cell_type": "code",
   "execution_count": 41,
   "metadata": {},
   "outputs": [
    {
     "data": {
      "text/html": [
       "<div>\n",
       "<style scoped>\n",
       "    .dataframe tbody tr th:only-of-type {\n",
       "        vertical-align: middle;\n",
       "    }\n",
       "\n",
       "    .dataframe tbody tr th {\n",
       "        vertical-align: top;\n",
       "    }\n",
       "\n",
       "    .dataframe thead th {\n",
       "        text-align: right;\n",
       "    }\n",
       "</style>\n",
       "<table border=\"1\" class=\"dataframe\">\n",
       "  <thead>\n",
       "    <tr style=\"text-align: right;\">\n",
       "      <th></th>\n",
       "      <th>ADDRTYPE</th>\n",
       "      <th>SEVERITYCODE</th>\n",
       "      <th>COLLISIONTYPE</th>\n",
       "      <th>PEDCOUNT</th>\n",
       "      <th>VEHCOUNT</th>\n",
       "      <th>INCDATE</th>\n",
       "      <th>WEATHER</th>\n",
       "      <th>ROADCOND</th>\n",
       "      <th>LIGHTCOND</th>\n",
       "    </tr>\n",
       "  </thead>\n",
       "  <tbody>\n",
       "    <tr>\n",
       "      <th>0</th>\n",
       "      <td>Intersection</td>\n",
       "      <td>1</td>\n",
       "      <td>Angles</td>\n",
       "      <td>0</td>\n",
       "      <td>2</td>\n",
       "      <td>2020/01/19 00:00:00+00</td>\n",
       "      <td>Clear</td>\n",
       "      <td>Dry</td>\n",
       "      <td>Daylight</td>\n",
       "    </tr>\n",
       "    <tr>\n",
       "      <th>1</th>\n",
       "      <td>Block</td>\n",
       "      <td>1</td>\n",
       "      <td>Rear Ended</td>\n",
       "      <td>0</td>\n",
       "      <td>2</td>\n",
       "      <td>2005/04/11 00:00:00+00</td>\n",
       "      <td>Raining</td>\n",
       "      <td>Wet</td>\n",
       "      <td>Dusk</td>\n",
       "    </tr>\n",
       "    <tr>\n",
       "      <th>2</th>\n",
       "      <td>Block</td>\n",
       "      <td>2</td>\n",
       "      <td>Head On</td>\n",
       "      <td>0</td>\n",
       "      <td>2</td>\n",
       "      <td>2013/03/31 00:00:00+00</td>\n",
       "      <td>Clear</td>\n",
       "      <td>Dry</td>\n",
       "      <td>Dark - Street Lights On</td>\n",
       "    </tr>\n",
       "    <tr>\n",
       "      <th>3</th>\n",
       "      <td>Intersection</td>\n",
       "      <td>2</td>\n",
       "      <td>Pedestrian</td>\n",
       "      <td>1</td>\n",
       "      <td>1</td>\n",
       "      <td>2020/01/06 00:00:00+00</td>\n",
       "      <td>Raining</td>\n",
       "      <td>Wet</td>\n",
       "      <td>Dark - Street Lights On</td>\n",
       "    </tr>\n",
       "    <tr>\n",
       "      <th>4</th>\n",
       "      <td>Block</td>\n",
       "      <td>2</td>\n",
       "      <td>Other</td>\n",
       "      <td>0</td>\n",
       "      <td>1</td>\n",
       "      <td>2009/12/25 00:00:00+00</td>\n",
       "      <td>Clear</td>\n",
       "      <td>Ice</td>\n",
       "      <td>Dark - Street Lights On</td>\n",
       "    </tr>\n",
       "  </tbody>\n",
       "</table>\n",
       "</div>"
      ],
      "text/plain": [
       "       ADDRTYPE SEVERITYCODE COLLISIONTYPE  PEDCOUNT  VEHCOUNT  \\\n",
       "0  Intersection            1        Angles         0         2   \n",
       "1         Block            1    Rear Ended         0         2   \n",
       "2         Block            2       Head On         0         2   \n",
       "3  Intersection            2    Pedestrian         1         1   \n",
       "4         Block            2         Other         0         1   \n",
       "\n",
       "                  INCDATE  WEATHER ROADCOND                LIGHTCOND  \n",
       "0  2020/01/19 00:00:00+00    Clear      Dry                 Daylight  \n",
       "1  2005/04/11 00:00:00+00  Raining      Wet                     Dusk  \n",
       "2  2013/03/31 00:00:00+00    Clear      Dry  Dark - Street Lights On  \n",
       "3  2020/01/06 00:00:00+00  Raining      Wet  Dark - Street Lights On  \n",
       "4  2009/12/25 00:00:00+00    Clear      Ice  Dark - Street Lights On  "
      ]
     },
     "execution_count": 41,
     "metadata": {},
     "output_type": "execute_result"
    }
   ],
   "source": [
    "c.drop(c.columns.difference(['SEVERITYCODE','ADDRTYPE','WEATHER','ROADCOND','LIGHTCOND','VEHCOUNT','COLLISIONTYPE','INCDATE','PEDCOUNT']), 1, inplace=True)\n",
    "c.head()"
   ]
  },
  {
   "cell_type": "markdown",
   "metadata": {},
   "source": [
    "Here i droped the null values in the dataframe and reseted the index"
   ]
  },
  {
   "cell_type": "code",
   "execution_count": 42,
   "metadata": {},
   "outputs": [
    {
     "data": {
      "text/plain": [
       "ADDRTYPE         0\n",
       "SEVERITYCODE     0\n",
       "COLLISIONTYPE    0\n",
       "PEDCOUNT         0\n",
       "VEHCOUNT         0\n",
       "INCDATE          0\n",
       "WEATHER          0\n",
       "ROADCOND         0\n",
       "LIGHTCOND        0\n",
       "dtype: int64"
      ]
     },
     "execution_count": 42,
     "metadata": {},
     "output_type": "execute_result"
    }
   ],
   "source": [
    "c.isnull().sum()\n",
    "c.dropna(inplace=True)\n",
    "c= c.reset_index(drop=True)\n",
    "c.isnull().sum()"
   ]
  },
  {
   "cell_type": "markdown",
   "metadata": {},
   "source": [
    "I droped the rows with severity unknown, i can't get information from that, also i checked for the quantity of each severity registered"
   ]
  },
  {
   "cell_type": "code",
   "execution_count": 43,
   "metadata": {},
   "outputs": [
    {
     "data": {
      "text/plain": [
       "1     131994\n",
       "2      57604\n",
       "2b      3049\n",
       "3        339\n",
       "Name: SEVERITYCODE, dtype: int64"
      ]
     },
     "execution_count": 43,
     "metadata": {},
     "output_type": "execute_result"
    }
   ],
   "source": [
    "c = c[c.SEVERITYCODE != '0']\n",
    "c['SEVERITYCODE'].value_counts()"
   ]
  },
  {
   "cell_type": "markdown",
   "metadata": {},
   "source": [
    "I took the date data and convert it to a number that indicates the day of the week"
   ]
  },
  {
   "cell_type": "code",
   "execution_count": 44,
   "metadata": {},
   "outputs": [
    {
     "name": "stderr",
     "output_type": "stream",
     "text": [
      "<ipython-input-44-b7a3719107b7>:1: FutureWarning: Columnar iteration over characters will be deprecated in future releases.\n",
      "  c['INCDATE'], c['B'] = c['INCDATE'].str.split(' ', 1).str\n"
     ]
    },
    {
     "data": {
      "text/html": [
       "<div>\n",
       "<style scoped>\n",
       "    .dataframe tbody tr th:only-of-type {\n",
       "        vertical-align: middle;\n",
       "    }\n",
       "\n",
       "    .dataframe tbody tr th {\n",
       "        vertical-align: top;\n",
       "    }\n",
       "\n",
       "    .dataframe thead th {\n",
       "        text-align: right;\n",
       "    }\n",
       "</style>\n",
       "<table border=\"1\" class=\"dataframe\">\n",
       "  <thead>\n",
       "    <tr style=\"text-align: right;\">\n",
       "      <th></th>\n",
       "      <th>ADDRTYPE</th>\n",
       "      <th>SEVERITYCODE</th>\n",
       "      <th>COLLISIONTYPE</th>\n",
       "      <th>PEDCOUNT</th>\n",
       "      <th>VEHCOUNT</th>\n",
       "      <th>INCDATE</th>\n",
       "      <th>WEATHER</th>\n",
       "      <th>ROADCOND</th>\n",
       "      <th>LIGHTCOND</th>\n",
       "      <th>B</th>\n",
       "    </tr>\n",
       "  </thead>\n",
       "  <tbody>\n",
       "    <tr>\n",
       "      <th>0</th>\n",
       "      <td>Intersection</td>\n",
       "      <td>1</td>\n",
       "      <td>Angles</td>\n",
       "      <td>0</td>\n",
       "      <td>2</td>\n",
       "      <td>6</td>\n",
       "      <td>Clear</td>\n",
       "      <td>Dry</td>\n",
       "      <td>Daylight</td>\n",
       "      <td>00:00:00+00</td>\n",
       "    </tr>\n",
       "    <tr>\n",
       "      <th>1</th>\n",
       "      <td>Block</td>\n",
       "      <td>1</td>\n",
       "      <td>Rear Ended</td>\n",
       "      <td>0</td>\n",
       "      <td>2</td>\n",
       "      <td>0</td>\n",
       "      <td>Raining</td>\n",
       "      <td>Wet</td>\n",
       "      <td>Dusk</td>\n",
       "      <td>00:00:00+00</td>\n",
       "    </tr>\n",
       "    <tr>\n",
       "      <th>2</th>\n",
       "      <td>Block</td>\n",
       "      <td>2</td>\n",
       "      <td>Head On</td>\n",
       "      <td>0</td>\n",
       "      <td>2</td>\n",
       "      <td>6</td>\n",
       "      <td>Clear</td>\n",
       "      <td>Dry</td>\n",
       "      <td>Dark - Street Lights On</td>\n",
       "      <td>00:00:00+00</td>\n",
       "    </tr>\n",
       "    <tr>\n",
       "      <th>3</th>\n",
       "      <td>Intersection</td>\n",
       "      <td>2</td>\n",
       "      <td>Pedestrian</td>\n",
       "      <td>1</td>\n",
       "      <td>1</td>\n",
       "      <td>0</td>\n",
       "      <td>Raining</td>\n",
       "      <td>Wet</td>\n",
       "      <td>Dark - Street Lights On</td>\n",
       "      <td>00:00:00+00</td>\n",
       "    </tr>\n",
       "    <tr>\n",
       "      <th>4</th>\n",
       "      <td>Block</td>\n",
       "      <td>2</td>\n",
       "      <td>Other</td>\n",
       "      <td>0</td>\n",
       "      <td>1</td>\n",
       "      <td>4</td>\n",
       "      <td>Clear</td>\n",
       "      <td>Ice</td>\n",
       "      <td>Dark - Street Lights On</td>\n",
       "      <td>00:00:00+00</td>\n",
       "    </tr>\n",
       "  </tbody>\n",
       "</table>\n",
       "</div>"
      ],
      "text/plain": [
       "       ADDRTYPE SEVERITYCODE COLLISIONTYPE  PEDCOUNT  VEHCOUNT  INCDATE  \\\n",
       "0  Intersection            1        Angles         0         2        6   \n",
       "1         Block            1    Rear Ended         0         2        0   \n",
       "2         Block            2       Head On         0         2        6   \n",
       "3  Intersection            2    Pedestrian         1         1        0   \n",
       "4         Block            2         Other         0         1        4   \n",
       "\n",
       "   WEATHER ROADCOND                LIGHTCOND            B  \n",
       "0    Clear      Dry                 Daylight  00:00:00+00  \n",
       "1  Raining      Wet                     Dusk  00:00:00+00  \n",
       "2    Clear      Dry  Dark - Street Lights On  00:00:00+00  \n",
       "3  Raining      Wet  Dark - Street Lights On  00:00:00+00  \n",
       "4    Clear      Ice  Dark - Street Lights On  00:00:00+00  "
      ]
     },
     "execution_count": 44,
     "metadata": {},
     "output_type": "execute_result"
    }
   ],
   "source": [
    "c['INCDATE'], c['B'] = c['INCDATE'].str.split(' ', 1).str\n",
    "c['INCDATE'] =  pd.to_datetime(c['INCDATE']).dt.dayofweek\n",
    "c.head()"
   ]
  },
  {
   "cell_type": "markdown",
   "metadata": {},
   "source": [
    "Then i just counted the number of variables of each row to drop the values of which don't provide clear informartion"
   ]
  },
  {
   "cell_type": "code",
   "execution_count": 45,
   "metadata": {},
   "outputs": [
    {
     "name": "stdout",
     "output_type": "stream",
     "text": [
      "Block           126304\n",
      "Intersection     65927\n",
      "Alley              755\n",
      "Name: ADDRTYPE, dtype: int64\n",
      "Clear                       114149\n",
      "Raining                      33859\n",
      "Overcast                     28384\n",
      "Unknown                      14097\n",
      "Snowing                        908\n",
      "Other                          818\n",
      "Fog/Smog/Smoke                 571\n",
      "Sleet/Hail/Freezing Rain       115\n",
      "Blowing Sand/Dirt               49\n",
      "Severe Crosswind                26\n",
      "Partly Cloudy                   10\n",
      "Name: WEATHER, dtype: int64\n",
      "Dry               127855\n",
      "Wet                48467\n",
      "Unknown            14065\n",
      "Ice                 1215\n",
      "Snow/Slush          1002\n",
      "Other                128\n",
      "Standing Water       115\n",
      "Sand/Mud/Dirt         75\n",
      "Oil                   64\n",
      "Name: ROADCOND, dtype: int64\n",
      "Daylight                    118803\n",
      "Dark - Street Lights On      49854\n",
      "Unknown                      12657\n",
      "Dusk                          6025\n",
      "Dawn                          2596\n",
      "Dark - No Street Lights       1568\n",
      "Dark - Street Lights Off      1224\n",
      "Other                          235\n",
      "Dark - Unknown Lighting         24\n",
      "Name: LIGHTCOND, dtype: int64\n",
      "Parked Car    47244\n",
      "Angles        35467\n",
      "Rear Ended    34408\n",
      "Other         24326\n",
      "Sideswipe     18732\n",
      "Left Turn     14073\n",
      "Pedestrian     7644\n",
      "Cycles         5919\n",
      "Right Turn     2998\n",
      "Head On        2175\n",
      "Name: COLLISIONTYPE, dtype: int64\n",
      "4    32001\n",
      "3    29124\n",
      "2    28439\n",
      "1    28202\n",
      "5    27266\n",
      "0    26042\n",
      "6    21912\n",
      "Name: INCDATE, dtype: int64\n"
     ]
    }
   ],
   "source": [
    "print(c['ADDRTYPE'].value_counts())\n",
    "print(c['WEATHER'].value_counts())\n",
    "print(c['ROADCOND'].value_counts())\n",
    "print(c['LIGHTCOND'].value_counts())\n",
    "print(c['COLLISIONTYPE'].value_counts())\n",
    "print(c['INCDATE'].value_counts())\n",
    "c.drop(columns=['B'])\n",
    "c = c[c.WEATHER != 'Unknown'] \n",
    "c = c[c.WEATHER != 'Other'] \n",
    "c = c[c.ROADCOND != 'Unknown'] \n",
    "c = c[c.ROADCOND != 'Other'] \n",
    "c = c[c.LIGHTCOND != 'Unknown'] \n",
    "c = c[c.LIGHTCOND != 'Other'] \n",
    "c = c[c.LIGHTCOND != 'Dark - Unknown Lighting'] \n",
    "c = c[c.LIGHTCOND != 'COLLISIONTYPE']"
   ]
  },
  {
   "cell_type": "markdown",
   "metadata": {},
   "source": [
    "Here i printed each value of the variables grouped with the normalized severity code to visualize the distribution of the data\n"
   ]
  },
  {
   "cell_type": "code",
   "execution_count": 46,
   "metadata": {},
   "outputs": [
    {
     "name": "stdout",
     "output_type": "stream",
     "text": [
      "ADDRTYPE      SEVERITYCODE\n",
      "Alley         1               0.861386\n",
      "              2               0.130363\n",
      "              2b              0.008251\n",
      "Block         1               0.721964\n",
      "              2               0.263082\n",
      "              2b              0.013295\n",
      "              3               0.001660\n",
      "Intersection  1               0.547471\n",
      "              2               0.426418\n",
      "              2b              0.023755\n",
      "              3               0.002355\n",
      "Name: SEVERITYCODE, dtype: float64\n",
      "WEATHER                   SEVERITYCODE\n",
      "Blowing Sand/Dirt         1               0.714286\n",
      "                          2               0.285714\n",
      "Clear                     1               0.658621\n",
      "                          2               0.321465\n",
      "                          2b              0.017905\n",
      "                          3               0.002009\n",
      "Fog/Smog/Smoke            1               0.659459\n",
      "                          2               0.329730\n",
      "                          2b              0.005405\n",
      "                          3               0.005405\n",
      "Overcast                  1               0.667017\n",
      "                          2               0.315069\n",
      "                          2b              0.015996\n",
      "                          3               0.001918\n",
      "Partly Cloudy             1               0.500000\n",
      "                          2               0.400000\n",
      "                          3               0.100000\n",
      "Raining                   1               0.648881\n",
      "                          2               0.333982\n",
      "                          2b              0.015639\n",
      "                          3               0.001498\n",
      "Severe Crosswind          1               0.692308\n",
      "                          2               0.269231\n",
      "                          3               0.038462\n",
      "Sleet/Hail/Freezing Rain  1               0.724771\n",
      "                          2               0.256881\n",
      "                          2b              0.018349\n",
      "Snowing                   1               0.793517\n",
      "                          2               0.194478\n",
      "                          2b              0.012005\n",
      "Name: SEVERITYCODE, dtype: float64\n",
      "ROADCOND        SEVERITYCODE\n",
      "Dry             1               0.659238\n",
      "                2               0.320930\n",
      "                2b              0.017713\n",
      "                3               0.002119\n",
      "Ice             1               0.744059\n",
      "                2               0.238574\n",
      "                2b              0.016453\n",
      "                3               0.000914\n",
      "Oil             1               0.600000\n",
      "                2               0.400000\n",
      "Sand/Mud/Dirt   1               0.681818\n",
      "                2               0.318182\n",
      "Snow/Slush      1               0.807876\n",
      "                2               0.183771\n",
      "                2b              0.008353\n",
      "Standing Water  1               0.714286\n",
      "                2               0.257143\n",
      "                2b              0.028571\n",
      "Wet             1               0.652898\n",
      "                2               0.330039\n",
      "                2b              0.015648\n",
      "                3               0.001415\n",
      "Name: SEVERITYCODE, dtype: float64\n",
      "LIGHTCOND                 SEVERITYCODE\n",
      "Dark - No Street Lights   1               0.754848\n",
      "                          2               0.227147\n",
      "                          2b              0.017313\n",
      "                          3               0.000693\n",
      "Dark - Street Lights Off  1               0.703575\n",
      "                          2               0.269398\n",
      "                          2b              0.024412\n",
      "                          3               0.002616\n",
      "Dark - Street Lights On   1               0.677699\n",
      "                          2               0.298437\n",
      "                          2b              0.020875\n",
      "                          3               0.002988\n",
      "Dawn                      1               0.648185\n",
      "                          2               0.326286\n",
      "                          2b              0.023534\n",
      "                          3               0.001994\n",
      "Daylight                  1               0.650016\n",
      "                          2               0.333299\n",
      "                          2b              0.015248\n",
      "                          3               0.001437\n",
      "Dusk                      1               0.648004\n",
      "                          2               0.331433\n",
      "                          2b              0.018144\n",
      "                          3               0.002419\n",
      "Name: SEVERITYCODE, dtype: float64\n",
      "VEHCOUNT  SEVERITYCODE\n",
      "0         2               0.820175\n",
      "          2b              0.166667\n",
      "          1               0.013158\n",
      "1         2               0.519393\n",
      "          1               0.414822\n",
      "          2b              0.057501\n",
      "          3               0.008284\n",
      "2         1               0.721829\n",
      "          2               0.268819\n",
      "          2b              0.008729\n",
      "          3               0.000623\n",
      "3         1               0.562108\n",
      "          2               0.421465\n",
      "          2b              0.014800\n",
      "          3               0.001627\n",
      "4         1               0.535613\n",
      "          2               0.442002\n",
      "          2b              0.020757\n",
      "          3               0.001628\n",
      "5         1               0.493578\n",
      "          2               0.473394\n",
      "          2b              0.029358\n",
      "          3               0.003670\n",
      "6         1               0.560811\n",
      "          2               0.398649\n",
      "          2b              0.027027\n",
      "          3               0.013514\n",
      "7         1               0.471698\n",
      "          2               0.433962\n",
      "          2b              0.075472\n",
      "          3               0.018868\n",
      "8         1               0.611111\n",
      "          2               0.277778\n",
      "          2b              0.055556\n",
      "          3               0.055556\n",
      "9         2               0.700000\n",
      "          1               0.300000\n",
      "10        2               1.000000\n",
      "11        1               0.500000\n",
      "          2               0.500000\n",
      "12        1               1.000000\n",
      "13        2b              1.000000\n",
      "14        2b              1.000000\n",
      "15        2b              1.000000\n",
      "Name: SEVERITYCODE, dtype: float64\n",
      "INCDATE  SEVERITYCODE\n",
      "0        1               0.652341\n",
      "         2               0.329112\n",
      "         2b              0.016671\n",
      "         3               0.001876\n",
      "1        1               0.652730\n",
      "         2               0.328457\n",
      "         2b              0.017483\n",
      "         3               0.001330\n",
      "2        1               0.655325\n",
      "         2               0.326249\n",
      "         2b              0.016258\n",
      "         3               0.002168\n",
      "3        1               0.648340\n",
      "         2               0.331733\n",
      "         2b              0.018188\n",
      "         3               0.001739\n",
      "4        1               0.662880\n",
      "         2               0.318290\n",
      "         2b              0.016696\n",
      "         3               0.002134\n",
      "5        1               0.665191\n",
      "         2               0.316495\n",
      "         2b              0.016446\n",
      "         3               0.001868\n",
      "6        1               0.678934\n",
      "         2               0.300648\n",
      "         2b              0.018121\n",
      "         3               0.002297\n",
      "Name: SEVERITYCODE, dtype: float64\n"
     ]
    }
   ],
   "source": [
    "print(c.groupby(['ADDRTYPE'])['SEVERITYCODE'].value_counts(normalize=True))\n",
    "print(c.groupby(['WEATHER'])['SEVERITYCODE'].value_counts(normalize=True))\n",
    "print(c.groupby(['ROADCOND'])['SEVERITYCODE'].value_counts(normalize=True))\n",
    "print(c.groupby(['LIGHTCOND'])['SEVERITYCODE'].value_counts(normalize=True))\n",
    "print(c.groupby(['VEHCOUNT'])['SEVERITYCODE'].value_counts(normalize=True))\n",
    "print(c.groupby(['INCDATE'])['SEVERITYCODE'].value_counts(normalize=True))"
   ]
  },
  {
   "cell_type": "markdown",
   "metadata": {},
   "source": [
    "Then i made a barplot for each variable in comparison to the severity code"
   ]
  },
  {
   "cell_type": "code",
   "execution_count": 47,
   "metadata": {},
   "outputs": [
    {
     "data": {
      "text/plain": [
       "<seaborn.axisgrid.FacetGrid at 0x1afe7d6c550>"
      ]
     },
     "execution_count": 47,
     "metadata": {},
     "output_type": "execute_result"
    },
    {
     "data": {
      "image/png": "[encoded data removed]",
      "text/plain": [
       "<Figure size 455.375x360 with 1 Axes>"
      ]
     },
     "metadata": {
      "needs_background": "light"
     },
     "output_type": "display_data"
    },
    {
     "data": {
      "image/png": "[encoded data removed]",
      "text/plain": [
       "<Figure size 514.375x360 with 1 Axes>"
      ]
     },
     "metadata": {
      "needs_background": "light"
     },
     "output_type": "display_data"
    },
    {
     "data": {
      "image/png": "[encoded data removed]",
      "text/plain": [
       "<Figure size 473.25x360 with 1 Axes>"
      ]
     },
     "metadata": {
      "needs_background": "light"
     },
     "output_type": "display_data"
    },
    {
     "data": {
      "image/png": "[encoded data removed]",
      "text/plain": [
       "<Figure size 511.25x360 with 1 Axes>"
      ]
     },
     "metadata": {
      "needs_background": "light"
     },
     "output_type": "display_data"
    },
    {
     "data": {
      "image/png": "[encoded data removed]",
      "text/plain": [
       "<Figure size 424.125x360 with 1 Axes>"
      ]
     },
     "metadata": {
      "needs_background": "light"
     },
     "output_type": "display_data"
    },
    {
     "data": {
      "image/png": "[encoded data removed]",
      "text/plain": [
       "<Figure size 411.25x360 with 1 Axes>"
      ]
     },
     "metadata": {
      "needs_background": "light"
     },
     "output_type": "display_data"
    }
   ],
   "source": [
    "x = 'SEVERITYCODE'\n",
    "(c.groupby(x)['ADDRTYPE'].value_counts(normalize=True).mul(100).rename('percent').reset_index().pipe((sns.catplot,'data'), x=x,y='percent',hue='ADDRTYPE',kind='bar'))\n",
    "(c.groupby(x)['WEATHER'].value_counts(normalize=True).mul(100).rename('percent').reset_index().pipe((sns.catplot,'data'), x=x,y='percent',hue='WEATHER',kind='bar'))\n",
    "(c.groupby(x)['ROADCOND'].value_counts(normalize=True).mul(100).rename('percent').reset_index().pipe((sns.catplot,'data'), x=x,y='percent',hue='ROADCOND',kind='bar'))\n",
    "(c.groupby(x)['LIGHTCOND'].value_counts(normalize=True).mul(100).rename('percent').reset_index().pipe((sns.catplot,'data'), x=x,y='percent',hue='LIGHTCOND',kind='bar'))\n",
    "(c.groupby(x)['VEHCOUNT'].value_counts(normalize=True).mul(100).rename('percent').reset_index().pipe((sns.catplot,'data'), x=x,y='percent',hue='VEHCOUNT',kind='bar'))\n",
    "(c.groupby(x)['INCDATE'].value_counts(normalize=True).mul(100).rename('percent').reset_index().pipe((sns.catplot,'data'), x=x,y='percent',hue='INCDATE',kind='bar'))"
   ]
  },
  {
   "cell_type": "markdown",
   "metadata": {},
   "source": [
    "I decided to group each category of the variables in order to take the most relevant categories to make the predictions,also i enconded the categories into numbers to ease the future implementation of the predicitive model, i grouped the collision address type or ADDRTYPE as shown below:"
   ]
  },
  {
   "cell_type": "code",
   "execution_count": 48,
   "metadata": {},
   "outputs": [
    {
     "data": {
      "text/plain": [
       "<seaborn.axisgrid.FacetGrid at 0x1afea243490>"
      ]
     },
     "execution_count": 48,
     "metadata": {},
     "output_type": "execute_result"
    },
    {
     "data": {
      "image/png": "[encoded data removed]",
      "text/plain": [
       "<Figure size 420.75x360 with 1 Axes>"
      ]
     },
     "metadata": {
      "needs_background": "light"
     },
     "output_type": "display_data"
    }
   ],
   "source": [
    "c['ADDRTYPE'].replace(to_replace=['Block','Intersection','Alley'], value=[0,1,2],inplace=True)\n",
    "c['ADDRTYPE'] = c['ADDRTYPE'].apply(lambda x: 1 if (x>=1)  else 0)\n",
    "(c.groupby(x)['ADDRTYPE'].value_counts(normalize=True).mul(100).rename('percent').reset_index().pipe((sns.catplot,'data'), x=x,y='percent',hue='ADDRTYPE',kind='bar'))"
   ]
  },
  {
   "cell_type": "markdown",
   "metadata": {},
   "source": [
    "Then i grouped each category of the variables for the road conditions in the collision, i decided to take 0 as dry and 1 as not dry, which includes different conditions, you can see the results below:"
   ]
  },
  {
   "cell_type": "code",
   "execution_count": 49,
   "metadata": {},
   "outputs": [
    {
     "data": {
      "text/plain": [
       "<seaborn.axisgrid.FacetGrid at 0x1afec156340>"
      ]
     },
     "execution_count": 49,
     "metadata": {},
     "output_type": "execute_result"
    },
    {
     "data": {
      "image/png": "[encoded data removed]",
      "text/plain": [
       "<Figure size 427x360 with 1 Axes>"
      ]
     },
     "metadata": {
      "needs_background": "light"
     },
     "output_type": "display_data"
    }
   ],
   "source": [
    "c['ROADCOND'].replace(to_replace=['Dry','Wet','Ice','Snow/Slush','Standing Water','Sand/Mud/Dirt','Oil'], value=[0,1,2,3,4,5,6],inplace=True)\n",
    "c['ROADCOND'] = c['ROADCOND'].apply(lambda x: 1 if (x>=1)  else 0)\n",
    "(c.groupby(x)['ROADCOND'].value_counts(normalize=True).mul(100).rename('percent').reset_index().pipe((sns.catplot,'data'), x=x,y='percent',hue='ROADCOND',kind='bar'))"
   ]
  },
  {
   "cell_type": "code",
   "execution_count": 35,
   "metadata": {},
   "outputs": [
    {
     "data": {
      "text/plain": [
       "array(['Dry', 'Wet', 'Ice', 'Snow/Slush', 'Standing Water',\n",
       "       'Sand/Mud/Dirt', 'Oil'], dtype=object)"
      ]
     },
     "execution_count": 35,
     "metadata": {},
     "output_type": "execute_result"
    }
   ],
   "source": [
    "c['ROADCOND'].unique()"
   ]
  },
  {
   "cell_type": "markdown",
   "metadata": {},
   "source": [
    "## Metodology"
   ]
  },
  {
   "cell_type": "markdown",
   "metadata": {},
   "source": [
    "## Results"
   ]
  },
  {
   "cell_type": "markdown",
   "metadata": {},
   "source": [
    "## Discussion"
   ]
  },
  {
   "cell_type": "markdown",
   "metadata": {},
   "source": [
    "## Conclusion"
   ]
  },
  {
   "cell_type": "code",
   "execution_count": null,
   "metadata": {},
   "outputs": [],
   "source": []
  }
 ],
 "metadata": {
  "kernelspec": {
   "display_name": "Python 3",
   "language": "python",
   "name": "python3"
  },
  "language_info": {
   "codemirror_mode": {
    "name": "ipython",
    "version": 3
   },
   "file_extension": ".py",
   "mimetype": "text/x-python",
   "name": "python",
   "nbconvert_exporter": "python",
   "pygments_lexer": "ipython3",
   "version": "3.8.3"
  }
 },
 "nbformat": 4,
 "nbformat_minor": 1
}
