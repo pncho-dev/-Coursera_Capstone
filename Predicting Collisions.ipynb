{
 "cells": [
  {
   "cell_type": "markdown",
   "metadata": {},
   "source": [
    "# Predicting the severity of car accidents"
   ]
  },
  {
   "cell_type": "markdown",
   "metadata": {},
   "source": [
    "## Introduction"
   ]
  },
  {
   "cell_type": "markdown",
   "metadata": {},
   "source": [
    "Between the 2004 and 2018 ocurred around 225000 collision in seattle, Canada. During this years a lot of information was registered and organized into a database, that contains about 41 attributes. One of those attributes describes the severity of the collision, that can be labeled from collisions that only caused propierty damage to collisions that caused fatallities. The autorithies of seattle made an effort in order to save a lot of data for each collison. For example, we can know about the number of vehicles and the type of those vehicles involved in the accident, the amount of people involved in the crash, the weather and road conditions,the location of the accidents, and even we can know if the speeding or the influence of some substances took part in the accident. However, there is a lot of missing data that will have to be evaluated towards extracting and analising information from this database.\n",
    "\n",
    "Having all this information, we can think about the posible benefits of usign data science and machine learning techniques to find the especific conditions that increases the posibility of fatallities in one collison. Having this information we could be able to predict the severity of one accident just by having information about the traffic of the city, the roads and the available information in the database, therefore i expect this to be useful for the ones interested in the collisions, and how we can predict them and more important which conditions that are under our control we can improve to prevent the accidents or at least having the smallest amount of casualties.\n",
    "\n",
    "This work it's a oportunity to the public entities around the world to have a deeper knowledge of the variables involved in the accidents in order to save lives likewise the insurance companies could be interested in knowing how to reduce the damage in accidents."
   ]
  },
  {
   "cell_type": "markdown",
   "metadata": {},
   "source": [
    "## Data Analysis"
   ]
  },
  {
   "cell_type": "markdown",
   "metadata": {},
   "source": [
    "This notebooks contains the exploratory data analysis of the data used to predict the severity of the collisions in the city of Seattle in Canada. The main objective is to build a highly accurated machine learning model using the available data.The database used was provided by the city if seattle and can be found at: http://data-seattlecitygis.opendata.arcgis.com/datasets/5b5c745e0f1f48e7a53acec63a0022ab_0 \n",
    "The first setep it's to install and import the necessary libraries to make the analysis and ploting of the data:"
   ]
  },
  {
   "cell_type": "code",
   "execution_count": 1,
   "metadata": {},
   "outputs": [],
   "source": [
    "%%capture\n",
    "! pip install seaborn\n",
    "! pip install dexplot"
   ]
  },
  {
   "cell_type": "code",
   "execution_count": 2,
   "metadata": {},
   "outputs": [],
   "source": [
    "import matplotlib.pyplot as plt\n",
    "import seaborn as sns\n",
    "import pandas as pd\n",
    "import numpy as np\n",
    "import io\n",
    "import requests\n",
    "from scipy import stats\n",
    "import datetime\n",
    "import dexplot as dxp"
   ]
  },
  {
   "cell_type": "markdown",
   "metadata": {},
   "source": [
    "Then i loaded the data a decoded it:"
   ]
  },
  {
   "cell_type": "code",
   "execution_count": 39,
   "metadata": {},
   "outputs": [],
   "source": [
    "url=\"https://opendata.arcgis.com/datasets/5b5c745e0f1f48e7a53acec63a0022ab_0.csv\"\n",
    "s=requests.get(url).content\n",
    "c=pd.read_csv(io.StringIO(s.decode('utf-8')))"
   ]
  },
  {
   "cell_type": "code",
   "execution_count": 38,
   "metadata": {},
   "outputs": [
    {
     "data": {
      "text/html": [
       "<div>\n",
       "<style scoped>\n",
       "    .dataframe tbody tr th:only-of-type {\n",
       "        vertical-align: middle;\n",
       "    }\n",
       "\n",
       "    .dataframe tbody tr th {\n",
       "        vertical-align: top;\n",
       "    }\n",
       "\n",
       "    .dataframe thead th {\n",
       "        text-align: right;\n",
       "    }\n",
       "</style>\n",
       "<table border=\"1\" class=\"dataframe\">\n",
       "  <thead>\n",
       "    <tr style=\"text-align: right;\">\n",
       "      <th></th>\n",
       "      <th>ADDRTYPE</th>\n",
       "      <th>SEVERITYCODE</th>\n",
       "      <th>COLLISIONTYPE</th>\n",
       "      <th>PEDCOUNT</th>\n",
       "      <th>VEHCOUNT</th>\n",
       "      <th>WEATHER</th>\n",
       "      <th>ROADCOND</th>\n",
       "      <th>LIGHTCOND</th>\n",
       "    </tr>\n",
       "  </thead>\n",
       "  <tbody>\n",
       "    <tr>\n",
       "      <th>0</th>\n",
       "      <td>Block</td>\n",
       "      <td>1</td>\n",
       "      <td>Sideswipe</td>\n",
       "      <td>0</td>\n",
       "      <td>2</td>\n",
       "      <td>Raining</td>\n",
       "      <td>Wet</td>\n",
       "      <td>Dark - Street Lights On</td>\n",
       "    </tr>\n",
       "    <tr>\n",
       "      <th>1</th>\n",
       "      <td>Block</td>\n",
       "      <td>1</td>\n",
       "      <td>Parked Car</td>\n",
       "      <td>0</td>\n",
       "      <td>2</td>\n",
       "      <td>Clear</td>\n",
       "      <td>Dry</td>\n",
       "      <td>Daylight</td>\n",
       "    </tr>\n",
       "    <tr>\n",
       "      <th>2</th>\n",
       "      <td>Block</td>\n",
       "      <td>0</td>\n",
       "      <td>NaN</td>\n",
       "      <td>0</td>\n",
       "      <td>0</td>\n",
       "      <td>NaN</td>\n",
       "      <td>NaN</td>\n",
       "      <td>NaN</td>\n",
       "    </tr>\n",
       "    <tr>\n",
       "      <th>3</th>\n",
       "      <td>Block</td>\n",
       "      <td>0</td>\n",
       "      <td>NaN</td>\n",
       "      <td>0</td>\n",
       "      <td>0</td>\n",
       "      <td>NaN</td>\n",
       "      <td>NaN</td>\n",
       "      <td>NaN</td>\n",
       "    </tr>\n",
       "    <tr>\n",
       "      <th>4</th>\n",
       "      <td>Block</td>\n",
       "      <td>0</td>\n",
       "      <td>NaN</td>\n",
       "      <td>0</td>\n",
       "      <td>0</td>\n",
       "      <td>NaN</td>\n",
       "      <td>NaN</td>\n",
       "      <td>NaN</td>\n",
       "    </tr>\n",
       "  </tbody>\n",
       "</table>\n",
       "</div>"
      ],
      "text/plain": [
       "  ADDRTYPE SEVERITYCODE COLLISIONTYPE  PEDCOUNT  VEHCOUNT  WEATHER ROADCOND  \\\n",
       "0    Block            1     Sideswipe         0         2  Raining      Wet   \n",
       "1    Block            1    Parked Car         0         2    Clear      Dry   \n",
       "2    Block            0           NaN         0         0      NaN      NaN   \n",
       "3    Block            0           NaN         0         0      NaN      NaN   \n",
       "4    Block            0           NaN         0         0      NaN      NaN   \n",
       "\n",
       "                 LIGHTCOND  \n",
       "0  Dark - Street Lights On  \n",
       "1                 Daylight  \n",
       "2                      NaN  \n",
       "3                      NaN  \n",
       "4                      NaN  "
      ]
     },
     "execution_count": 38,
     "metadata": {},
     "output_type": "execute_result"
    }
   ],
   "source": [
    "c.head()"
   ]
  },
  {
   "cell_type": "markdown",
   "metadata": {},
   "source": [
    "## Data exploration"
   ]
  },
  {
   "cell_type": "markdown",
   "metadata": {},
   "source": [
    "In this section i chose the variables that i'm going to use to make the prediction, i took the variables that showed a relation with the target, and didn't have a lot of null values."
   ]
  },
  {
   "cell_type": "code",
   "execution_count": 37,
   "metadata": {},
   "outputs": [
    {
     "data": {
      "text/html": [
       "<div>\n",
       "<style scoped>\n",
       "    .dataframe tbody tr th:only-of-type {\n",
       "        vertical-align: middle;\n",
       "    }\n",
       "\n",
       "    .dataframe tbody tr th {\n",
       "        vertical-align: top;\n",
       "    }\n",
       "\n",
       "    .dataframe thead th {\n",
       "        text-align: right;\n",
       "    }\n",
       "</style>\n",
       "<table border=\"1\" class=\"dataframe\">\n",
       "  <thead>\n",
       "    <tr style=\"text-align: right;\">\n",
       "      <th></th>\n",
       "      <th>ADDRTYPE</th>\n",
       "      <th>SEVERITYCODE</th>\n",
       "      <th>COLLISIONTYPE</th>\n",
       "      <th>PEDCOUNT</th>\n",
       "      <th>VEHCOUNT</th>\n",
       "      <th>WEATHER</th>\n",
       "      <th>ROADCOND</th>\n",
       "      <th>LIGHTCOND</th>\n",
       "    </tr>\n",
       "  </thead>\n",
       "  <tbody>\n",
       "    <tr>\n",
       "      <th>0</th>\n",
       "      <td>Block</td>\n",
       "      <td>1</td>\n",
       "      <td>Sideswipe</td>\n",
       "      <td>0</td>\n",
       "      <td>2</td>\n",
       "      <td>Raining</td>\n",
       "      <td>Wet</td>\n",
       "      <td>Dark - Street Lights On</td>\n",
       "    </tr>\n",
       "    <tr>\n",
       "      <th>1</th>\n",
       "      <td>Block</td>\n",
       "      <td>1</td>\n",
       "      <td>Parked Car</td>\n",
       "      <td>0</td>\n",
       "      <td>2</td>\n",
       "      <td>Clear</td>\n",
       "      <td>Dry</td>\n",
       "      <td>Daylight</td>\n",
       "    </tr>\n",
       "    <tr>\n",
       "      <th>2</th>\n",
       "      <td>Block</td>\n",
       "      <td>0</td>\n",
       "      <td>NaN</td>\n",
       "      <td>0</td>\n",
       "      <td>0</td>\n",
       "      <td>NaN</td>\n",
       "      <td>NaN</td>\n",
       "      <td>NaN</td>\n",
       "    </tr>\n",
       "    <tr>\n",
       "      <th>3</th>\n",
       "      <td>Block</td>\n",
       "      <td>0</td>\n",
       "      <td>NaN</td>\n",
       "      <td>0</td>\n",
       "      <td>0</td>\n",
       "      <td>NaN</td>\n",
       "      <td>NaN</td>\n",
       "      <td>NaN</td>\n",
       "    </tr>\n",
       "    <tr>\n",
       "      <th>4</th>\n",
       "      <td>Block</td>\n",
       "      <td>0</td>\n",
       "      <td>NaN</td>\n",
       "      <td>0</td>\n",
       "      <td>0</td>\n",
       "      <td>NaN</td>\n",
       "      <td>NaN</td>\n",
       "      <td>NaN</td>\n",
       "    </tr>\n",
       "  </tbody>\n",
       "</table>\n",
       "</div>"
      ],
      "text/plain": [
       "  ADDRTYPE SEVERITYCODE COLLISIONTYPE  PEDCOUNT  VEHCOUNT  WEATHER ROADCOND  \\\n",
       "0    Block            1     Sideswipe         0         2  Raining      Wet   \n",
       "1    Block            1    Parked Car         0         2    Clear      Dry   \n",
       "2    Block            0           NaN         0         0      NaN      NaN   \n",
       "3    Block            0           NaN         0         0      NaN      NaN   \n",
       "4    Block            0           NaN         0         0      NaN      NaN   \n",
       "\n",
       "                 LIGHTCOND  \n",
       "0  Dark - Street Lights On  \n",
       "1                 Daylight  \n",
       "2                      NaN  \n",
       "3                      NaN  \n",
       "4                      NaN  "
      ]
     },
     "execution_count": 37,
     "metadata": {},
     "output_type": "execute_result"
    }
   ],
   "source": [
    "c.drop(c.columns.difference(['SEVERITYCODE','ADDRTYPE','WEATHER','ROADCOND','LIGHTCOND','VEHCOUNT','COLLISIONTYPE','INCDATE','PEDCOUNT']), 1, inplace=True)\n",
    "c.head()"
   ]
  },
  {
   "cell_type": "markdown",
   "metadata": {},
   "source": [
    "Here i droped the null values in the dataframe and reseted the index"
   ]
  },
  {
   "cell_type": "code",
   "execution_count": 15,
   "metadata": {},
   "outputs": [
    {
     "data": {
      "text/plain": [
       "ADDRTYPE         0\n",
       "SEVERITYCODE     0\n",
       "COLLISIONTYPE    0\n",
       "PEDCOUNT         0\n",
       "VEHCOUNT         0\n",
       "INCDATE          0\n",
       "WEATHER          0\n",
       "ROADCOND         0\n",
       "LIGHTCOND        0\n",
       "dtype: int64"
      ]
     },
     "execution_count": 15,
     "metadata": {},
     "output_type": "execute_result"
    }
   ],
   "source": [
    "c.isnull().sum()\n",
    "c.dropna(inplace=True)\n",
    "c= c.reset_index(drop=True)\n",
    "c.isnull().sum()"
   ]
  },
  {
   "cell_type": "markdown",
   "metadata": {},
   "source": [
    "I droped the rows with severity unknown, i can't get information from that, also i checked for the quantity of each severity registered"
   ]
  },
  {
   "cell_type": "code",
   "execution_count": 16,
   "metadata": {},
   "outputs": [
    {
     "data": {
      "text/plain": [
       "1     131922\n",
       "2      57553\n",
       "2b      3045\n",
       "3        339\n",
       "Name: SEVERITYCODE, dtype: int64"
      ]
     },
     "execution_count": 16,
     "metadata": {},
     "output_type": "execute_result"
    }
   ],
   "source": [
    "c = c[c.SEVERITYCODE != '0']\n",
    "c['SEVERITYCODE'].value_counts()"
   ]
  },
  {
   "cell_type": "markdown",
   "metadata": {},
   "source": [
    "I took the date data and convert it to a number that indicates the day of the week"
   ]
  },
  {
   "cell_type": "code",
   "execution_count": 17,
   "metadata": {},
   "outputs": [
    {
     "name": "stderr",
     "output_type": "stream",
     "text": [
      "C:\\Users\\Daniel\\anaconda3\\lib\\site-packages\\ipykernel_launcher.py:1: FutureWarning: Columnar iteration over characters will be deprecated in future releases.\n",
      "  \"\"\"Entry point for launching an IPython kernel.\n"
     ]
    },
    {
     "data": {
      "text/html": [
       "<div>\n",
       "<style scoped>\n",
       "    .dataframe tbody tr th:only-of-type {\n",
       "        vertical-align: middle;\n",
       "    }\n",
       "\n",
       "    .dataframe tbody tr th {\n",
       "        vertical-align: top;\n",
       "    }\n",
       "\n",
       "    .dataframe thead th {\n",
       "        text-align: right;\n",
       "    }\n",
       "</style>\n",
       "<table border=\"1\" class=\"dataframe\">\n",
       "  <thead>\n",
       "    <tr style=\"text-align: right;\">\n",
       "      <th></th>\n",
       "      <th>ADDRTYPE</th>\n",
       "      <th>SEVERITYCODE</th>\n",
       "      <th>COLLISIONTYPE</th>\n",
       "      <th>PEDCOUNT</th>\n",
       "      <th>VEHCOUNT</th>\n",
       "      <th>INCDATE</th>\n",
       "      <th>WEATHER</th>\n",
       "      <th>ROADCOND</th>\n",
       "      <th>LIGHTCOND</th>\n",
       "      <th>B</th>\n",
       "    </tr>\n",
       "  </thead>\n",
       "  <tbody>\n",
       "    <tr>\n",
       "      <th>0</th>\n",
       "      <td>Block</td>\n",
       "      <td>1</td>\n",
       "      <td>Sideswipe</td>\n",
       "      <td>0</td>\n",
       "      <td>2</td>\n",
       "      <td>2</td>\n",
       "      <td>Raining</td>\n",
       "      <td>Wet</td>\n",
       "      <td>Dark - Street Lights On</td>\n",
       "      <td>00:00:00+00</td>\n",
       "    </tr>\n",
       "    <tr>\n",
       "      <th>1</th>\n",
       "      <td>Block</td>\n",
       "      <td>1</td>\n",
       "      <td>Parked Car</td>\n",
       "      <td>0</td>\n",
       "      <td>2</td>\n",
       "      <td>1</td>\n",
       "      <td>Clear</td>\n",
       "      <td>Dry</td>\n",
       "      <td>Daylight</td>\n",
       "      <td>00:00:00+00</td>\n",
       "    </tr>\n",
       "    <tr>\n",
       "      <th>2</th>\n",
       "      <td>Block</td>\n",
       "      <td>1</td>\n",
       "      <td>Rear Ended</td>\n",
       "      <td>0</td>\n",
       "      <td>2</td>\n",
       "      <td>3</td>\n",
       "      <td>Clear</td>\n",
       "      <td>Dry</td>\n",
       "      <td>Daylight</td>\n",
       "      <td>00:00:00+00</td>\n",
       "    </tr>\n",
       "    <tr>\n",
       "      <th>3</th>\n",
       "      <td>Block</td>\n",
       "      <td>1</td>\n",
       "      <td>Other</td>\n",
       "      <td>0</td>\n",
       "      <td>1</td>\n",
       "      <td>0</td>\n",
       "      <td>Clear</td>\n",
       "      <td>Wet</td>\n",
       "      <td>Daylight</td>\n",
       "      <td>00:00:00+00</td>\n",
       "    </tr>\n",
       "    <tr>\n",
       "      <th>4</th>\n",
       "      <td>Intersection</td>\n",
       "      <td>1</td>\n",
       "      <td>Sideswipe</td>\n",
       "      <td>0</td>\n",
       "      <td>2</td>\n",
       "      <td>3</td>\n",
       "      <td>Overcast</td>\n",
       "      <td>Dry</td>\n",
       "      <td>Daylight</td>\n",
       "      <td>00:00:00+00</td>\n",
       "    </tr>\n",
       "  </tbody>\n",
       "</table>\n",
       "</div>"
      ],
      "text/plain": [
       "       ADDRTYPE SEVERITYCODE COLLISIONTYPE  PEDCOUNT  VEHCOUNT  INCDATE  \\\n",
       "0         Block            1     Sideswipe         0         2        2   \n",
       "1         Block            1    Parked Car         0         2        1   \n",
       "2         Block            1    Rear Ended         0         2        3   \n",
       "3         Block            1         Other         0         1        0   \n",
       "4  Intersection            1     Sideswipe         0         2        3   \n",
       "\n",
       "    WEATHER ROADCOND                LIGHTCOND            B  \n",
       "0   Raining      Wet  Dark - Street Lights On  00:00:00+00  \n",
       "1     Clear      Dry                 Daylight  00:00:00+00  \n",
       "2     Clear      Dry                 Daylight  00:00:00+00  \n",
       "3     Clear      Wet                 Daylight  00:00:00+00  \n",
       "4  Overcast      Dry                 Daylight  00:00:00+00  "
      ]
     },
     "execution_count": 17,
     "metadata": {},
     "output_type": "execute_result"
    }
   ],
   "source": [
    "c['INCDATE'], c['B'] = c['INCDATE'].str.split(' ', 1).str\n",
    "c['INCDATE'] =  pd.to_datetime(c['INCDATE']).dt.dayofweek\n",
    "c.head()"
   ]
  },
  {
   "cell_type": "markdown",
   "metadata": {},
   "source": [
    "Then i just counted the number of variables of each row to drop the values of which don't provide clear informartion"
   ]
  },
  {
   "cell_type": "code",
   "execution_count": 18,
   "metadata": {},
   "outputs": [
    {
     "name": "stdout",
     "output_type": "stream",
     "text": [
      "Block           126239\n",
      "Intersection     65865\n",
      "Alley              755\n",
      "Name: ADDRTYPE, dtype: int64\n",
      "Clear                       114037\n",
      "Raining                      33857\n",
      "Overcast                     28371\n",
      "Unknown                      14097\n",
      "Snowing                        908\n",
      "Other                          818\n",
      "Fog/Smog/Smoke                 571\n",
      "Sleet/Hail/Freezing Rain       115\n",
      "Blowing Sand/Dirt               49\n",
      "Severe Crosswind                26\n",
      "Partly Cloudy                   10\n",
      "Name: WEATHER, dtype: int64\n",
      "Dry               127731\n",
      "Wet                48464\n",
      "Unknown            14065\n",
      "Ice                 1215\n",
      "Snow/Slush          1002\n",
      "Other                128\n",
      "Standing Water       115\n",
      "Sand/Mud/Dirt         75\n",
      "Oil                   64\n",
      "Name: ROADCOND, dtype: int64\n",
      "Daylight                    118697\n",
      "Dark - Street Lights On      49840\n",
      "Unknown                      12656\n",
      "Dusk                          6022\n",
      "Dawn                          2595\n",
      "Dark - No Street Lights       1567\n",
      "Dark - Street Lights Off      1224\n",
      "Other                          235\n",
      "Dark - Unknown Lighting         23\n",
      "Name: LIGHTCOND, dtype: int64\n",
      "Parked Car    47227\n",
      "Angles        35436\n",
      "Rear Ended    34385\n",
      "Other         24311\n",
      "Sideswipe     18720\n",
      "Left Turn     14064\n",
      "Pedestrian     7640\n",
      "Cycles         5909\n",
      "Right Turn     2995\n",
      "Head On        2172\n",
      "Name: COLLISIONTYPE, dtype: int64\n",
      "4    31972\n",
      "3    29103\n",
      "2    28411\n",
      "1    28189\n",
      "5    27255\n",
      "0    26030\n",
      "6    21899\n",
      "Name: INCDATE, dtype: int64\n"
     ]
    }
   ],
   "source": [
    "print(c['ADDRTYPE'].value_counts())\n",
    "print(c['WEATHER'].value_counts())\n",
    "print(c['ROADCOND'].value_counts())\n",
    "print(c['LIGHTCOND'].value_counts())\n",
    "print(c['COLLISIONTYPE'].value_counts())\n",
    "print(c['INCDATE'].value_counts())\n",
    "c.drop(columns=['B'])\n",
    "c = c[c.WEATHER != 'Unknown'] \n",
    "c = c[c.WEATHER != 'Other'] \n",
    "c = c[c.ROADCOND != 'Unknown'] \n",
    "c = c[c.ROADCOND != 'Other'] \n",
    "c = c[c.LIGHTCOND != 'Unknown'] \n",
    "c = c[c.LIGHTCOND != 'Other'] \n",
    "c = c[c.LIGHTCOND != 'Dark - Unknown Lighting'] \n",
    "c = c[c.LIGHTCOND != 'COLLISIONTYPE']"
   ]
  },
  {
   "cell_type": "markdown",
   "metadata": {},
   "source": [
    "Here i printed each value of the variables grouped with the normalized severity code to visualize the distribution of the data\n"
   ]
  },
  {
   "cell_type": "code",
   "execution_count": 19,
   "metadata": {},
   "outputs": [
    {
     "name": "stdout",
     "output_type": "stream",
     "text": [
      "ADDRTYPE      SEVERITYCODE\n",
      "Alley         1               0.861386\n",
      "              2               0.130363\n",
      "              2b              0.008251\n",
      "Block         1               0.721975\n",
      "              2               0.263080\n",
      "              2b              0.013284\n",
      "              3               0.001661\n",
      "Intersection  1               0.547603\n",
      "              2               0.426293\n",
      "              2b              0.023747\n",
      "              3               0.002357\n",
      "Name: SEVERITYCODE, dtype: float64\n",
      "WEATHER                   SEVERITYCODE\n",
      "Blowing Sand/Dirt         1               0.714286\n",
      "                          2               0.285714\n",
      "Clear                     1               0.658696\n",
      "                          2               0.321397\n",
      "                          2b              0.017896\n",
      "                          3               0.002011\n",
      "Fog/Smog/Smoke            1               0.659459\n",
      "                          2               0.329730\n",
      "                          2b              0.005405\n",
      "                          3               0.005405\n",
      "Overcast                  1               0.667149\n",
      "                          2               0.314964\n",
      "                          2b              0.015967\n",
      "                          3               0.001919\n",
      "Partly Cloudy             1               0.500000\n",
      "                          2               0.400000\n",
      "                          3               0.100000\n",
      "Raining                   1               0.648890\n",
      "                          2               0.333972\n",
      "                          2b              0.015640\n",
      "                          3               0.001498\n",
      "Severe Crosswind          1               0.692308\n",
      "                          2               0.269231\n",
      "                          3               0.038462\n",
      "Sleet/Hail/Freezing Rain  1               0.724771\n",
      "                          2               0.256881\n",
      "                          2b              0.018349\n",
      "Snowing                   1               0.793517\n",
      "                          2               0.194478\n",
      "                          2b              0.012005\n",
      "Name: SEVERITYCODE, dtype: float64\n",
      "ROADCOND        SEVERITYCODE\n",
      "Dry             1               0.659337\n",
      "                2               0.320843\n",
      "                2b              0.017698\n",
      "                3               0.002121\n",
      "Ice             1               0.744059\n",
      "                2               0.238574\n",
      "                2b              0.016453\n",
      "                3               0.000914\n",
      "Oil             1               0.600000\n",
      "                2               0.400000\n",
      "Sand/Mud/Dirt   1               0.681818\n",
      "                2               0.318182\n",
      "Snow/Slush      1               0.807876\n",
      "                2               0.183771\n",
      "                2b              0.008353\n",
      "Standing Water  1               0.714286\n",
      "                2               0.257143\n",
      "                2b              0.028571\n",
      "Wet             1               0.652897\n",
      "                2               0.330039\n",
      "                2b              0.015649\n",
      "                3               0.001415\n",
      "Name: SEVERITYCODE, dtype: float64\n",
      "LIGHTCOND                 SEVERITYCODE\n",
      "Dark - No Street Lights   1               0.755371\n",
      "                          2               0.226611\n",
      "                          2b              0.017325\n",
      "                          3               0.000693\n",
      "Dark - Street Lights Off  1               0.703575\n",
      "                          2               0.269398\n",
      "                          2b              0.024412\n",
      "                          3               0.002616\n",
      "Dark - Street Lights On   1               0.677709\n",
      "                          2               0.298462\n",
      "                          2b              0.020840\n",
      "                          3               0.002989\n",
      "Dawn                      1               0.648444\n",
      "                          2               0.326018\n",
      "                          2b              0.023543\n",
      "                          3               0.001995\n",
      "Daylight                  1               0.650093\n",
      "                          2               0.333224\n",
      "                          2b              0.015245\n",
      "                          3               0.001439\n",
      "Dusk                      1               0.648167\n",
      "                          2               0.331259\n",
      "                          2b              0.018154\n",
      "                          3               0.002420\n",
      "Name: SEVERITYCODE, dtype: float64\n",
      "VEHCOUNT  SEVERITYCODE\n",
      "0         2               0.820175\n",
      "          2b              0.166667\n",
      "          1               0.013158\n",
      "1         2               0.519353\n",
      "          1               0.414880\n",
      "          2b              0.057476\n",
      "          3               0.008292\n",
      "2         1               0.721905\n",
      "          2               0.268752\n",
      "          2b              0.008719\n",
      "          3               0.000623\n",
      "3         1               0.562078\n",
      "          2               0.421481\n",
      "          2b              0.014812\n",
      "          3               0.001629\n",
      "4         1               0.535642\n",
      "          2               0.441955\n",
      "          2b              0.020774\n",
      "          3               0.001629\n",
      "5         1               0.493578\n",
      "          2               0.473394\n",
      "          2b              0.029358\n",
      "          3               0.003670\n",
      "6         1               0.560811\n",
      "          2               0.398649\n",
      "          2b              0.027027\n",
      "          3               0.013514\n",
      "7         1               0.471698\n",
      "          2               0.433962\n",
      "          2b              0.075472\n",
      "          3               0.018868\n",
      "8         1               0.611111\n",
      "          2               0.277778\n",
      "          2b              0.055556\n",
      "          3               0.055556\n",
      "9         2               0.700000\n",
      "          1               0.300000\n",
      "10        2               1.000000\n",
      "11        1               0.500000\n",
      "          2               0.500000\n",
      "12        1               1.000000\n",
      "13        2b              1.000000\n",
      "14        2b              1.000000\n",
      "15        2b              1.000000\n",
      "Name: SEVERITYCODE, dtype: float64\n",
      "INCDATE  SEVERITYCODE\n",
      "0        1               0.652333\n",
      "         2               0.329153\n",
      "         2b              0.016637\n",
      "         3               0.001877\n",
      "1        1               0.652866\n",
      "         2               0.328351\n",
      "         2b              0.017453\n",
      "         3               0.001330\n",
      "2        1               0.655390\n",
      "         2               0.326203\n",
      "         2b              0.016237\n",
      "         3               0.002170\n",
      "3        1               0.648515\n",
      "         2               0.331542\n",
      "         2b              0.018202\n",
      "         3               0.001741\n",
      "4        1               0.662899\n",
      "         2               0.318252\n",
      "         2b              0.016712\n",
      "         3               0.002136\n",
      "5        1               0.665245\n",
      "         2               0.316474\n",
      "         2b              0.016413\n",
      "         3               0.001869\n",
      "6        1               0.678976\n",
      "         2               0.300593\n",
      "         2b              0.018133\n",
      "         3               0.002298\n",
      "Name: SEVERITYCODE, dtype: float64\n"
     ]
    }
   ],
   "source": [
    "print(c.groupby(['ADDRTYPE'])['SEVERITYCODE'].value_counts(normalize=True))\n",
    "print(c.groupby(['WEATHER'])['SEVERITYCODE'].value_counts(normalize=True))\n",
    "print(c.groupby(['ROADCOND'])['SEVERITYCODE'].value_counts(normalize=True))\n",
    "print(c.groupby(['LIGHTCOND'])['SEVERITYCODE'].value_counts(normalize=True))\n",
    "print(c.groupby(['VEHCOUNT'])['SEVERITYCODE'].value_counts(normalize=True))\n",
    "print(c.groupby(['INCDATE'])['SEVERITYCODE'].value_counts(normalize=True))"
   ]
  },
  {
   "cell_type": "markdown",
   "metadata": {},
   "source": [
    "Then i made a barplot for each variable in comparison to the severity code"
   ]
  },
  {
   "cell_type": "code",
   "execution_count": 27,
   "metadata": {},
   "outputs": [
    {
     "data": {
      "text/plain": [
       "<seaborn.axisgrid.FacetGrid at 0x241f2b36408>"
      ]
     },
     "execution_count": 27,
     "metadata": {},
     "output_type": "execute_result"
    },
    {
     "data": {
      "image/png": "[encoded data removed]",
      "text/plain": [
       "<Figure size 455.375x360 with 1 Axes>"
      ]
     },
     "metadata": {
      "needs_background": "light"
     },
     "output_type": "display_data"
    },
    {
     "data": {
      "image/png": "[encoded data removed]",
      "text/plain": [
       "<Figure size 515.625x360 with 1 Axes>"
      ]
     },
     "metadata": {
      "needs_background": "light"
     },
     "output_type": "display_data"
    },
    {
     "data": {
      "image/png": "[encoded data removed]",
      "text/plain": [
       "<Figure size 473.875x360 with 1 Axes>"
      ]
     },
     "metadata": {
      "needs_background": "light"
     },
     "output_type": "display_data"
    },
    {
     "data": {
      "image/png": "[encoded data removed]",
      "text/plain": [
       "<Figure size 511.5x360 with 1 Axes>"
      ]
     },
     "metadata": {
      "needs_background": "light"
     },
     "output_type": "display_data"
    },
    {
     "data": {
      "image/png": "[encoded data removed]",
      "text/plain": [
       "<Figure size 424.125x360 with 1 Axes>"
      ]
     },
     "metadata": {
      "needs_background": "light"
     },
     "output_type": "display_data"
    },
    {
     "data": {
      "image/png": "[encoded data removed]",
      "text/plain": [
       "<Figure size 412.125x360 with 1 Axes>"
      ]
     },
     "metadata": {
      "needs_background": "light"
     },
     "output_type": "display_data"
    }
   ],
   "source": [
    "x = 'SEVERITYCODE'\n",
    "(c.groupby(x)['ADDRTYPE'].value_counts(normalize=True).mul(100).rename('percent').reset_index().pipe((sns.catplot,'data'), x=x,y='percent',hue='ADDRTYPE',kind='bar'))\n",
    "(c.groupby(x)['WEATHER'].value_counts(normalize=True).mul(100).rename('percent').reset_index().pipe((sns.catplot,'data'), x=x,y='percent',hue='WEATHER',kind='bar'))\n",
    "(c.groupby(x)['ROADCOND'].value_counts(normalize=True).mul(100).rename('percent').reset_index().pipe((sns.catplot,'data'), x=x,y='percent',hue='ROADCOND',kind='bar'))\n",
    "(c.groupby(x)['LIGHTCOND'].value_counts(normalize=True).mul(100).rename('percent').reset_index().pipe((sns.catplot,'data'), x=x,y='percent',hue='LIGHTCOND',kind='bar'))\n",
    "(c.groupby(x)['VEHCOUNT'].value_counts(normalize=True).mul(100).rename('percent').reset_index().pipe((sns.catplot,'data'), x=x,y='percent',hue='VEHCOUNT',kind='bar'))\n",
    "(c.groupby(x)['INCDATE'].value_counts(normalize=True).mul(100).rename('percent').reset_index().pipe((sns.catplot,'data'), x=x,y='percent',hue='INCDATE',kind='bar'))"
   ]
  },
  {
   "cell_type": "markdown",
   "metadata": {},
   "source": [
    "## Metodology"
   ]
  },
  {
   "cell_type": "markdown",
   "metadata": {},
   "source": [
    "## Results"
   ]
  },
  {
   "cell_type": "markdown",
   "metadata": {},
   "source": [
    "## Discussion"
   ]
  },
  {
   "cell_type": "markdown",
   "metadata": {},
   "source": [
    "## Conclusion"
   ]
  },
  {
   "cell_type": "code",
   "execution_count": null,
   "metadata": {},
   "outputs": [],
   "source": []
  }
 ],
 "metadata": {
  "kernelspec": {
   "display_name": "Python 3",
   "language": "python",
   "name": "python3"
  },
  "language_info": {
   "codemirror_mode": {
    "name": "ipython",
    "version": 3
   },
   "file_extension": ".py",
   "mimetype": "text/x-python",
   "name": "python",
   "nbconvert_exporter": "python",
   "pygments_lexer": "ipython3",
   "version": "3.7.6"
  }
 },
 "nbformat": 4,
 "nbformat_minor": 1
}
